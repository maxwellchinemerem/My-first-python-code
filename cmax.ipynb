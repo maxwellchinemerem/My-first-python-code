{
 "cells": [
  {
   "cell_type": "code",
   "execution_count": 12,
   "metadata": {},
   "outputs": [
    {
     "data": {
      "text/plain": [
       "'chetachi bright'"
      ]
     },
     "execution_count": 12,
     "metadata": {},
     "output_type": "execute_result"
    }
   ],
   "source": [
    "\"chetachi\" \" \" \"bright\""
   ]
  },
  {
   "cell_type": "code",
   "execution_count": 13,
   "metadata": {},
   "outputs": [
    {
     "data": {
      "text/plain": [
       "'Chinemerem is the man'"
      ]
     },
     "execution_count": 13,
     "metadata": {},
     "output_type": "execute_result"
    }
   ],
   "source": [
    "\"chinemerem is the man\".capitalize()"
   ]
  },
  {
   "cell_type": "code",
   "execution_count": 14,
   "metadata": {},
   "outputs": [
    {
     "data": {
      "text/plain": [
       "['A', 'B', 'C', 'D', '']"
      ]
     },
     "execution_count": 14,
     "metadata": {},
     "output_type": "execute_result"
    }
   ],
   "source": [
    "\"ApipBpipCpipDpip\".split(\"pip\")"
   ]
  },
  {
   "cell_type": "code",
   "execution_count": 15,
   "metadata": {},
   "outputs": [
    {
     "name": "stdout",
     "output_type": "stream",
     "text": [
      "my name is chinemerem\n"
     ]
    }
   ],
   "source": [
    "print(\"my name is chinemerem\")"
   ]
  },
  {
   "cell_type": "code",
   "execution_count": 16,
   "metadata": {},
   "outputs": [
    {
     "name": "stdout",
     "output_type": "stream",
     "text": [
      "magnet is thhe key\n"
     ]
    }
   ],
   "source": [
    "print(\"magnet is thhe key\")"
   ]
  },
  {
   "cell_type": "code",
   "execution_count": null,
   "metadata": {},
   "outputs": [],
   "source": [
    "my_name = \"chinemerem\"\n",
    "your_guess = input(\"guess my name:\")\n",
    "\n",
    "if my_name == your_guess:\n",
    "    print(\"oil dey your head.\")"
   ]
  },
  {
   "cell_type": "code",
   "execution_count": null,
   "metadata": {},
   "outputs": [],
   "source": [
    "my_name = \"maxwell\"\n",
    "your_guess = input(\"guess my name\")\n",
    "if my_name != your_guess:\n",
    "    print(\"you sure say nah your papa born you\")"
   ]
  },
  {
   "cell_type": "code",
   "execution_count": null,
   "metadata": {},
   "outputs": [
    {
     "name": "stdout",
     "output_type": "stream",
     "text": [
      "23342 is even\n"
     ]
    }
   ],
   "source": [
    "num = eval(input(\"enter a number\"))\n",
    "if num%2 == 0:\n",
    "    print(f\"{num} is even\")\n",
    "elif num%2 == 1:\n",
    "    print(\"{} is odd\".format(num))\n",
    "else:\n",
    "    print(\"{} is not a number!!!\".format(num))"
   ]
  },
  {
   "cell_type": "code",
   "execution_count": null,
   "metadata": {},
   "outputs": [],
   "source": [
    "def calculate_discount(price):\n",
    "    if price < 50000:\n",
    "        discount = 0\n",
    "    elif 50000 <= price <= 100000:\n",
    "        discount =0.05\n",
    "    elif 100000 < price <= 200000:\n",
    "        discount = 0.10\n",
    "    else:\n",
    "        discount = 0.15\n",
    "        discounted_price = price - (price * discount)\n",
    "        return price, discount * 100, discounted_price\n",
    "    def print_discount_message(name, original_price, discount, dicounted_price):\n",
    "        print(f\"hello {name},\")\n",
    "        print(f\"your original price was #{original_price:,}\")\n",
    "        print(f\"you got a {discount}% discount\")\n",
    "        print(f\"your discounted price is #{discounted_price:,}\")\n",
    "        print(\"thank you for your patronage !\")\n",
    "        original_price, discount, discounted_price = calculate_discount(price)\n",
    "        print_discount_message(name, int(original_price), discount, int(discounted_price))\n",
    "        if _name_ ==\"_main_\":\n",
    "            main()\n",
    "\n"
   ]
  },
  {
   "cell_type": "code",
   "execution_count": null,
   "metadata": {},
   "outputs": [
    {
     "name": "stdout",
     "output_type": "stream",
     "text": [
      "Invalid input. Please enter a number.\n",
      "Buzz\n",
      "Buzz\n",
      "Fizz\n",
      "Fizz\n",
      "Invalid input. Please enter a number.\n",
      "Invalid input. Please enter a number.\n",
      "Invalid input. Please enter a number.\n"
     ]
    }
   ],
   "source": [
    "def is_prime(n):\n",
    "    \"\"\"Check if a number is prime.\"\"\"\n",
    "    if n < 2:\n",
    "        return False\n",
    "    for i in range(2, int(n**0.5) + 1):\n",
    "        if n % i == 0:\n",
    "            return False\n",
    "    return True\n",
    "\n",
    "def fizz_buzz(n):\n",
    "    \"\"\"Print Fizz, Buzz, FizzBuzz, or Prime based on the input number.\"\"\"\n",
    "    if n % 3 == 0 and n % 5 == 0:\n",
    "        if is_prime(n):\n",
    "            print(\"Prime\")\n",
    "        else:\n",
    "            print(\"FizzBuzz\")\n",
    "    elif n % 3 == 0:\n",
    "        print(\"Fizz\")\n",
    "    elif n % 5 == 0:\n",
    "        print(\"Buzz\")\n",
    "    else:\n",
    "        print(n)\n",
    "\n",
    "def main():\n",
    "    \"\"\"Collect input from the user and call the fizz_buzz function.\"\"\"\n",
    "    while True:\n",
    "        user_input = input(\"Enter a number (or 'q' to quit): \")\n",
    "        if user_input.lower() == 'q':\n",
    "            break\n",
    "        try:\n",
    "            num = int(user_input)\n",
    "            fizz_buzz(num)\n",
    "        except ValueError:\n",
    "            print(\"Invalid input. Please enter a number.\")\n",
    "\n",
    "if __name__ == \"__main__\":\n",
    "    main()\n"
   ]
  },
  {
   "cell_type": "code",
   "execution_count": null,
   "metadata": {},
   "outputs": [
    {
     "ename": "IndentationError",
     "evalue": "expected an indented block after 'else' statement on line 15 (3016110825.py, line 17)",
     "output_type": "error",
     "traceback": [
      "\u001b[1;36m  Cell \u001b[1;32mIn[1], line 17\u001b[1;36m\u001b[0m\n\u001b[1;33m    def collect_scores():\u001b[0m\n\u001b[1;37m    ^\u001b[0m\n\u001b[1;31mIndentationError\u001b[0m\u001b[1;31m:\u001b[0m expected an indented block after 'else' statement on line 15\n"
     ]
    }
   ],
   "source": [
    "def Grade_score(score):\n",
    "    \"\"\"Grade a score based on the given criteria\"\"\"\n",
    "    if 75 <= score <= 100:\n",
    "        return \"A\"\n",
    "    elif 60 <= score <= 74:\n",
    "        return \"B\"\n",
    "    elif 45 <= score <= 59:\n",
    "        return \"C\"\n",
    "    elif 40 <= score <= 44:\n",
    "        return \"D\"\n",
    "    elif 35 <= score <= 39:\n",
    "        return \"E\"\n",
    "    elif 0 <= score <= 34:\n",
    "        return \"F\"\n",
    "    else:\n",
    "\n",
    "    def collect_scores():\n",
    "        \"\"\"collect examination score and grade them.\"\"\"\n",
    "        scores ={}\n",
    "        print(\"\\nExamination score sheet:\")\n",
    "        for Grade = Grade_score\n"
   ]
  },
  {
   "cell_type": "code",
   "execution_count": null,
   "metadata": {},
   "outputs": [
    {
     "name": "stdout",
     "output_type": "stream",
     "text": [
      "a = 10 b = 5\n",
      "b = 5\n"
     ]
    },
    {
     "data": {
      "text/plain": [
       "(15, 5, 50, 2.0)"
      ]
     },
     "execution_count": 3,
     "metadata": {},
     "output_type": "execute_result"
    }
   ],
   "source": [
    "def mathop(a, b=10):\n",
    "    print(\"a =\", a, \"b =\", b)\n",
    "    sum_ = a + b\n",
    "    diff = a - b\n",
    "    prod = a * b\n",
    "    div = a/b\n",
    "\n",
    "    return (sum_, diff, prod, div)\n",
    "mathop(10,5)\n"
   ]
  },
  {
   "cell_type": "code",
   "execution_count": 3,
   "metadata": {},
   "outputs": [
    {
     "ename": "ModuleNotFoundError",
     "evalue": "No module named 'numpy'",
     "output_type": "error",
     "traceback": [
      "\u001b[1;31m---------------------------------------------------------------------------\u001b[0m",
      "\u001b[1;31mModuleNotFoundError\u001b[0m                       Traceback (most recent call last)",
      "Cell \u001b[1;32mIn[3], line 3\u001b[0m\n\u001b[0;32m      1\u001b[0m \u001b[38;5;66;03m# importing libraries\u001b[39;00m\n\u001b[0;32m      2\u001b[0m \u001b[38;5;66;03m# import [libraryName]\u001b[39;00m\n\u001b[1;32m----> 3\u001b[0m \u001b[38;5;28;01mimport\u001b[39;00m \u001b[38;5;21;01mnumpy\u001b[39;00m\n",
      "\u001b[1;31mModuleNotFoundError\u001b[0m: No module named 'numpy'"
     ]
    }
   ],
   "source": [
    "# importing libraries\n",
    "# import [libraryName]\n",
    "import numpy"
   ]
  },
  {
   "cell_type": "code",
   "execution_count": null,
   "metadata": {},
   "outputs": [],
   "source": []
  },
  {
   "cell_type": "code",
   "execution_count": null,
   "metadata": {},
   "outputs": [],
   "source": []
  }
 ],
 "metadata": {
  "kernelspec": {
   "display_name": "base",
   "language": "python",
   "name": "python3"
  },
  "language_info": {
   "codemirror_mode": {
    "name": "ipython",
    "version": 3
   },
   "file_extension": ".py",
   "mimetype": "text/x-python",
   "name": "python",
   "nbconvert_exporter": "python",
   "pygments_lexer": "ipython3",
   "version": "3.12.9"
  }
 },
 "nbformat": 4,
 "nbformat_minor": 2
}
